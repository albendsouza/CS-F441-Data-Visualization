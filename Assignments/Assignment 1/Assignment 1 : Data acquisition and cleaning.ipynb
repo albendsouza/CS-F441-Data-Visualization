{
  "nbformat": 4,
  "nbformat_minor": 0,
  "metadata": {
    "colab": {
      "provenance": []
    },
    "kernelspec": {
      "name": "python3",
      "display_name": "Python 3"
    },
    "language_info": {
      "name": "python"
    }
  },
  "cells": [
    {
      "cell_type": "markdown",
      "source": [
        "# Assignment 1: Data acquisition and cleaning\n",
        "\n",
        "---\n",
        "\n"
      ],
      "metadata": {
        "id": "f3avtyv1OkDb"
      }
    },
    {
      "cell_type": "markdown",
      "source": [
        "## Data acquisition and inspection\n",
        "\n"
      ],
      "metadata": {
        "id": "HwiMmrfsQEjU"
      }
    },
    {
      "cell_type": "markdown",
      "source": [
        "Read and create a data frame"
      ],
      "metadata": {
        "id": "B_MdW_lwOrTR"
      }
    },
    {
      "cell_type": "code",
      "execution_count": 1,
      "metadata": {
        "colab": {
          "base_uri": "https://localhost:8080/"
        },
        "id": "Q2UM7AYNOfxH",
        "outputId": "5e12aa67-97aa-4561-ec8e-61b6fc3a8152"
      },
      "outputs": [
        {
          "output_type": "stream",
          "name": "stderr",
          "text": [
            "<ipython-input-1-9ba121192881>:4: DtypeWarning: Columns (9) have mixed types. Specify dtype option on import or set low_memory=False.\n",
            "  df = pd.read_csv('https://raw.githubusercontent.com/albendsouza/CS-F441-Data-Visualization/main/Assignments/Assignment%201/pincode.csv')\n"
          ]
        }
      ],
      "source": [
        "import numpy as np\n",
        "import pandas as pd\n",
        "\n",
        "df = pd.read_csv('https://raw.githubusercontent.com/albendsouza/CS-F441-Data-Visualization/main/Assignments/Assignment%201/pincode.csv')"
      ]
    },
    {
      "cell_type": "markdown",
      "source": [
        "Count the number of rows and columns:"
      ],
      "metadata": {
        "id": "8z_8CCWEPREj"
      }
    },
    {
      "cell_type": "code",
      "source": [
        "num_rows, num_cols = df.shape\n",
        "print(f\"Number of Rows: {num_rows}\")\n",
        "print(f\"Number of Columns: {num_cols}\")\n"
      ],
      "metadata": {
        "colab": {
          "base_uri": "https://localhost:8080/"
        },
        "id": "3KYApr-ZPDkM",
        "outputId": "f68c9c4f-5246-4344-90b6-5a9d6760f740"
      },
      "execution_count": 2,
      "outputs": [
        {
          "output_type": "stream",
          "name": "stdout",
          "text": [
            "Number of Rows: 157126\n",
            "Number of Columns: 11\n"
          ]
        }
      ]
    },
    {
      "cell_type": "markdown",
      "source": [
        "List the column names:"
      ],
      "metadata": {
        "id": "K-zoPfEGPeVc"
      }
    },
    {
      "cell_type": "code",
      "source": [
        "column_names = df.columns\n",
        "print(column_names)"
      ],
      "metadata": {
        "colab": {
          "base_uri": "https://localhost:8080/"
        },
        "id": "nnPxyDJIPZq2",
        "outputId": "7262a7df-61dd-4da4-c2b2-9b7b48b13aa6"
      },
      "execution_count": 3,
      "outputs": [
        {
          "output_type": "stream",
          "name": "stdout",
          "text": [
            "Index(['CircleName', 'RegionName', 'DivisionName', 'OfficeName', 'Pincode',\n",
            "       'OfficeType', 'Delivery', 'District', 'StateName', 'Latitude',\n",
            "       'Longitude'],\n",
            "      dtype='object')\n"
          ]
        }
      ]
    },
    {
      "cell_type": "markdown",
      "source": [
        "Count the number of rows & columns with missing values:"
      ],
      "metadata": {
        "id": "iTLsRi_YPuT_"
      }
    },
    {
      "cell_type": "code",
      "source": [
        "rows_with_missing_values = df.isnull().any(axis=1).sum()\n",
        "print(f\"Rows with missing values: {rows_with_missing_values}\")\n",
        "\n",
        "columns_with_missing_values = df.isnull().any(axis=0).sum()\n",
        "print(f\"Columns with missing values: {columns_with_missing_values}\")"
      ],
      "metadata": {
        "colab": {
          "base_uri": "https://localhost:8080/"
        },
        "id": "XfOYPdpMPoME",
        "outputId": "51e2be40-b098-4ea5-f8da-3c5fdd44137c"
      },
      "execution_count": 4,
      "outputs": [
        {
          "output_type": "stream",
          "name": "stdout",
          "text": [
            "Rows with missing values: 8900\n",
            "Columns with missing values: 4\n"
          ]
        }
      ]
    },
    {
      "cell_type": "code",
      "source": [
        "df.dtypes"
      ],
      "metadata": {
        "colab": {
          "base_uri": "https://localhost:8080/"
        },
        "id": "rQ-vd5QnP6Sj",
        "outputId": "78d2b7e5-5b69-4fa5-d45b-75eeffe44c66"
      },
      "execution_count": 5,
      "outputs": [
        {
          "output_type": "execute_result",
          "data": {
            "text/plain": [
              "CircleName      object\n",
              "RegionName      object\n",
              "DivisionName    object\n",
              "OfficeName      object\n",
              "Pincode          int64\n",
              "OfficeType      object\n",
              "Delivery        object\n",
              "District        object\n",
              "StateName       object\n",
              "Latitude        object\n",
              "Longitude       object\n",
              "dtype: object"
            ]
          },
          "metadata": {},
          "execution_count": 5
        }
      ]
    },
    {
      "cell_type": "markdown",
      "source": [
        "## Data cleaning"
      ],
      "metadata": {
        "id": "f-t8SGJLQWSu"
      }
    },
    {
      "cell_type": "markdown",
      "source": [
        "### Re-read the CSV file with 'Latitude' and 'Longitude' columns read as string:"
      ],
      "metadata": {
        "id": "hDuM1XcqQvG9"
      }
    },
    {
      "cell_type": "code",
      "source": [
        "df = pd.read_csv('https://raw.githubusercontent.com/albendsouza/CS-F441-Data-Visualization/main/Assignments/Assignment%201/pincode.csv', dtype={'Latitude': 'str', 'Longitude': 'str'})\n"
      ],
      "metadata": {
        "id": "zdXk4y00QbnM"
      },
      "execution_count": 6,
      "outputs": []
    },
    {
      "cell_type": "code",
      "source": [
        "num_rows, num_cols = df.shape\n",
        "print(f\"Number of Rows before cleaning: {num_rows}\")\n",
        "print(f\"Number of Columns before cleaning: {num_cols}\")"
      ],
      "metadata": {
        "colab": {
          "base_uri": "https://localhost:8080/"
        },
        "id": "5W3UDv-2Zx5o",
        "outputId": "43883aa2-3e4f-42e4-a2a3-5d22482747c5"
      },
      "execution_count": 7,
      "outputs": [
        {
          "output_type": "stream",
          "name": "stdout",
          "text": [
            "Number of Rows before cleaning: 157126\n",
            "Number of Columns before cleaning: 11\n"
          ]
        }
      ]
    },
    {
      "cell_type": "markdown",
      "source": [
        "Remove rows with missing values and reset the indices:"
      ],
      "metadata": {
        "id": "4tN7HeeGRSvF"
      }
    },
    {
      "cell_type": "code",
      "source": [
        "# Drop rows where either 'Latitude' or 'Longitude' is missing\n",
        "df.dropna(subset=['Latitude', 'Longitude'], inplace=True)\n",
        "\n",
        "# Reset the indices of the dataframe\n",
        "df.reset_index(drop=True, inplace=True)\n",
        "\n",
        "num_rows, num_cols = df.shape\n",
        "print(f\"Number of Rows after cleaning: {num_rows}\")\n",
        "print(f\"Number of Columns after cleaning: {num_cols}\")"
      ],
      "metadata": {
        "colab": {
          "base_uri": "https://localhost:8080/"
        },
        "id": "5SX6BZs4RLQm",
        "outputId": "a03c0f09-d20b-49d9-e311-c63939e88207"
      },
      "execution_count": 8,
      "outputs": [
        {
          "output_type": "stream",
          "name": "stdout",
          "text": [
            "Number of Rows after cleaning: 148279\n",
            "Number of Columns after cleaning: 11\n"
          ]
        }
      ]
    },
    {
      "cell_type": "code",
      "source": [
        "df.dtypes"
      ],
      "metadata": {
        "colab": {
          "base_uri": "https://localhost:8080/"
        },
        "id": "NbGZ9ktEaSYB",
        "outputId": "82cc2332-6373-43b6-a6b3-df2eb44e494e"
      },
      "execution_count": 9,
      "outputs": [
        {
          "output_type": "execute_result",
          "data": {
            "text/plain": [
              "CircleName      object\n",
              "RegionName      object\n",
              "DivisionName    object\n",
              "OfficeName      object\n",
              "Pincode          int64\n",
              "OfficeType      object\n",
              "Delivery        object\n",
              "District        object\n",
              "StateName       object\n",
              "Latitude        object\n",
              "Longitude       object\n",
              "dtype: object"
            ]
          },
          "metadata": {},
          "execution_count": 9
        }
      ]
    },
    {
      "cell_type": "code",
      "source": [
        "df"
      ],
      "metadata": {
        "colab": {
          "base_uri": "https://localhost:8080/",
          "height": 736
        },
        "id": "wCxrdMjUU2Vn",
        "outputId": "6e2011f3-4613-408d-fa14-2b74b64a934b"
      },
      "execution_count": 10,
      "outputs": [
        {
          "output_type": "execute_result",
          "data": {
            "text/plain": [
              "                   CircleName       RegionName       DivisionName  \\\n",
              "0       Andhra Pradesh Circle   Kurnool Region  Hindupur Division   \n",
              "1       Andhra Pradesh Circle   Kurnool Region  Hindupur Division   \n",
              "2       Andhra Pradesh Circle   Kurnool Region  Hindupur Division   \n",
              "3       Andhra Pradesh Circle   Kurnool Region  Hindupur Division   \n",
              "4       Andhra Pradesh Circle   Kurnool Region  Hindupur Division   \n",
              "...                       ...              ...                ...   \n",
              "148274   Uttar Pradesh Circle  Bareilly Region    Meerut Division   \n",
              "148275   Uttar Pradesh Circle  Bareilly Region    Meerut Division   \n",
              "148276   Uttar Pradesh Circle  Bareilly Region    Meerut Division   \n",
              "148277          Kerala Circle   Calicut Region   Calicut Division   \n",
              "148278          Kerala Circle   Calicut Region   Calicut Division   \n",
              "\n",
              "                 OfficeName  Pincode OfficeType      Delivery   District  \\\n",
              "0            Peddakotla B.O   515631         BO      Delivery  ANANTAPUR   \n",
              "1            Pinnadhari B.O   515631         BO      Delivery  ANANTAPUR   \n",
              "2       Yerraguntapalle B.O   515631         BO      Delivery  ANANTAPUR   \n",
              "3       Obulareddipalli B.O   515581         BO      Delivery  ANANTAPUR   \n",
              "4            Odulapalli B.O   515581         BO      Delivery  ANANTAPUR   \n",
              "...                     ...      ...        ...           ...        ...   \n",
              "148274   Rly Road Meerut SO   250002         PO  Non Delivery     MEERUT   \n",
              "148275           SGMandi SO   250002         PO  Non Delivery     MEERUT   \n",
              "148276          W K Road SO   250001         PO  Non Delivery     MEERUT   \n",
              "148277           Kakkoti SO   673611         PO      Delivery  KOZHIKODE   \n",
              "148278         Kotuvalli SO   673572         PO      Delivery  KOZHIKODE   \n",
              "\n",
              "             StateName    Latitude   Longitude  \n",
              "0       ANDHRA PRADESH     14.5689    77.85624  \n",
              "1       ANDHRA PRADESH     14.5281   77.857014  \n",
              "2       ANDHRA PRADESH   14.561111    77.85715  \n",
              "3       ANDHRA PRADESH     14.2488     78.2588  \n",
              "4       ANDHRA PRADESH    14.24555     78.2477  \n",
              "...                ...         ...         ...  \n",
              "148274   UTTAR PRADESH  28.9800000  77.6800000  \n",
              "148275   UTTAR PRADESH  28.9724000  77.6753600  \n",
              "148276   UTTAR PRADESH  28.9900000  77.7100000  \n",
              "148277          KERALA  11.2452900  75.7784550  \n",
              "148278          KERALA  11.3500000  75.9100000  \n",
              "\n",
              "[148279 rows x 11 columns]"
            ],
            "text/html": [
              "\n",
              "  <div id=\"df-3c2b85d2-b833-46ce-a946-013823aa4cb8\" class=\"colab-df-container\">\n",
              "    <div>\n",
              "<style scoped>\n",
              "    .dataframe tbody tr th:only-of-type {\n",
              "        vertical-align: middle;\n",
              "    }\n",
              "\n",
              "    .dataframe tbody tr th {\n",
              "        vertical-align: top;\n",
              "    }\n",
              "\n",
              "    .dataframe thead th {\n",
              "        text-align: right;\n",
              "    }\n",
              "</style>\n",
              "<table border=\"1\" class=\"dataframe\">\n",
              "  <thead>\n",
              "    <tr style=\"text-align: right;\">\n",
              "      <th></th>\n",
              "      <th>CircleName</th>\n",
              "      <th>RegionName</th>\n",
              "      <th>DivisionName</th>\n",
              "      <th>OfficeName</th>\n",
              "      <th>Pincode</th>\n",
              "      <th>OfficeType</th>\n",
              "      <th>Delivery</th>\n",
              "      <th>District</th>\n",
              "      <th>StateName</th>\n",
              "      <th>Latitude</th>\n",
              "      <th>Longitude</th>\n",
              "    </tr>\n",
              "  </thead>\n",
              "  <tbody>\n",
              "    <tr>\n",
              "      <th>0</th>\n",
              "      <td>Andhra Pradesh Circle</td>\n",
              "      <td>Kurnool Region</td>\n",
              "      <td>Hindupur Division</td>\n",
              "      <td>Peddakotla B.O</td>\n",
              "      <td>515631</td>\n",
              "      <td>BO</td>\n",
              "      <td>Delivery</td>\n",
              "      <td>ANANTAPUR</td>\n",
              "      <td>ANDHRA PRADESH</td>\n",
              "      <td>14.5689</td>\n",
              "      <td>77.85624</td>\n",
              "    </tr>\n",
              "    <tr>\n",
              "      <th>1</th>\n",
              "      <td>Andhra Pradesh Circle</td>\n",
              "      <td>Kurnool Region</td>\n",
              "      <td>Hindupur Division</td>\n",
              "      <td>Pinnadhari B.O</td>\n",
              "      <td>515631</td>\n",
              "      <td>BO</td>\n",
              "      <td>Delivery</td>\n",
              "      <td>ANANTAPUR</td>\n",
              "      <td>ANDHRA PRADESH</td>\n",
              "      <td>14.5281</td>\n",
              "      <td>77.857014</td>\n",
              "    </tr>\n",
              "    <tr>\n",
              "      <th>2</th>\n",
              "      <td>Andhra Pradesh Circle</td>\n",
              "      <td>Kurnool Region</td>\n",
              "      <td>Hindupur Division</td>\n",
              "      <td>Yerraguntapalle B.O</td>\n",
              "      <td>515631</td>\n",
              "      <td>BO</td>\n",
              "      <td>Delivery</td>\n",
              "      <td>ANANTAPUR</td>\n",
              "      <td>ANDHRA PRADESH</td>\n",
              "      <td>14.561111</td>\n",
              "      <td>77.85715</td>\n",
              "    </tr>\n",
              "    <tr>\n",
              "      <th>3</th>\n",
              "      <td>Andhra Pradesh Circle</td>\n",
              "      <td>Kurnool Region</td>\n",
              "      <td>Hindupur Division</td>\n",
              "      <td>Obulareddipalli B.O</td>\n",
              "      <td>515581</td>\n",
              "      <td>BO</td>\n",
              "      <td>Delivery</td>\n",
              "      <td>ANANTAPUR</td>\n",
              "      <td>ANDHRA PRADESH</td>\n",
              "      <td>14.2488</td>\n",
              "      <td>78.2588</td>\n",
              "    </tr>\n",
              "    <tr>\n",
              "      <th>4</th>\n",
              "      <td>Andhra Pradesh Circle</td>\n",
              "      <td>Kurnool Region</td>\n",
              "      <td>Hindupur Division</td>\n",
              "      <td>Odulapalli B.O</td>\n",
              "      <td>515581</td>\n",
              "      <td>BO</td>\n",
              "      <td>Delivery</td>\n",
              "      <td>ANANTAPUR</td>\n",
              "      <td>ANDHRA PRADESH</td>\n",
              "      <td>14.24555</td>\n",
              "      <td>78.2477</td>\n",
              "    </tr>\n",
              "    <tr>\n",
              "      <th>...</th>\n",
              "      <td>...</td>\n",
              "      <td>...</td>\n",
              "      <td>...</td>\n",
              "      <td>...</td>\n",
              "      <td>...</td>\n",
              "      <td>...</td>\n",
              "      <td>...</td>\n",
              "      <td>...</td>\n",
              "      <td>...</td>\n",
              "      <td>...</td>\n",
              "      <td>...</td>\n",
              "    </tr>\n",
              "    <tr>\n",
              "      <th>148274</th>\n",
              "      <td>Uttar Pradesh Circle</td>\n",
              "      <td>Bareilly Region</td>\n",
              "      <td>Meerut Division</td>\n",
              "      <td>Rly Road Meerut SO</td>\n",
              "      <td>250002</td>\n",
              "      <td>PO</td>\n",
              "      <td>Non Delivery</td>\n",
              "      <td>MEERUT</td>\n",
              "      <td>UTTAR PRADESH</td>\n",
              "      <td>28.9800000</td>\n",
              "      <td>77.6800000</td>\n",
              "    </tr>\n",
              "    <tr>\n",
              "      <th>148275</th>\n",
              "      <td>Uttar Pradesh Circle</td>\n",
              "      <td>Bareilly Region</td>\n",
              "      <td>Meerut Division</td>\n",
              "      <td>SGMandi SO</td>\n",
              "      <td>250002</td>\n",
              "      <td>PO</td>\n",
              "      <td>Non Delivery</td>\n",
              "      <td>MEERUT</td>\n",
              "      <td>UTTAR PRADESH</td>\n",
              "      <td>28.9724000</td>\n",
              "      <td>77.6753600</td>\n",
              "    </tr>\n",
              "    <tr>\n",
              "      <th>148276</th>\n",
              "      <td>Uttar Pradesh Circle</td>\n",
              "      <td>Bareilly Region</td>\n",
              "      <td>Meerut Division</td>\n",
              "      <td>W K Road SO</td>\n",
              "      <td>250001</td>\n",
              "      <td>PO</td>\n",
              "      <td>Non Delivery</td>\n",
              "      <td>MEERUT</td>\n",
              "      <td>UTTAR PRADESH</td>\n",
              "      <td>28.9900000</td>\n",
              "      <td>77.7100000</td>\n",
              "    </tr>\n",
              "    <tr>\n",
              "      <th>148277</th>\n",
              "      <td>Kerala Circle</td>\n",
              "      <td>Calicut Region</td>\n",
              "      <td>Calicut Division</td>\n",
              "      <td>Kakkoti SO</td>\n",
              "      <td>673611</td>\n",
              "      <td>PO</td>\n",
              "      <td>Delivery</td>\n",
              "      <td>KOZHIKODE</td>\n",
              "      <td>KERALA</td>\n",
              "      <td>11.2452900</td>\n",
              "      <td>75.7784550</td>\n",
              "    </tr>\n",
              "    <tr>\n",
              "      <th>148278</th>\n",
              "      <td>Kerala Circle</td>\n",
              "      <td>Calicut Region</td>\n",
              "      <td>Calicut Division</td>\n",
              "      <td>Kotuvalli SO</td>\n",
              "      <td>673572</td>\n",
              "      <td>PO</td>\n",
              "      <td>Delivery</td>\n",
              "      <td>KOZHIKODE</td>\n",
              "      <td>KERALA</td>\n",
              "      <td>11.3500000</td>\n",
              "      <td>75.9100000</td>\n",
              "    </tr>\n",
              "  </tbody>\n",
              "</table>\n",
              "<p>148279 rows × 11 columns</p>\n",
              "</div>\n",
              "    <div class=\"colab-df-buttons\">\n",
              "\n",
              "  <div class=\"colab-df-container\">\n",
              "    <button class=\"colab-df-convert\" onclick=\"convertToInteractive('df-3c2b85d2-b833-46ce-a946-013823aa4cb8')\"\n",
              "            title=\"Convert this dataframe to an interactive table.\"\n",
              "            style=\"display:none;\">\n",
              "\n",
              "  <svg xmlns=\"http://www.w3.org/2000/svg\" height=\"24px\" viewBox=\"0 -960 960 960\">\n",
              "    <path d=\"M120-120v-720h720v720H120Zm60-500h600v-160H180v160Zm220 220h160v-160H400v160Zm0 220h160v-160H400v160ZM180-400h160v-160H180v160Zm440 0h160v-160H620v160ZM180-180h160v-160H180v160Zm440 0h160v-160H620v160Z\"/>\n",
              "  </svg>\n",
              "    </button>\n",
              "\n",
              "  <style>\n",
              "    .colab-df-container {\n",
              "      display:flex;\n",
              "      gap: 12px;\n",
              "    }\n",
              "\n",
              "    .colab-df-convert {\n",
              "      background-color: #E8F0FE;\n",
              "      border: none;\n",
              "      border-radius: 50%;\n",
              "      cursor: pointer;\n",
              "      display: none;\n",
              "      fill: #1967D2;\n",
              "      height: 32px;\n",
              "      padding: 0 0 0 0;\n",
              "      width: 32px;\n",
              "    }\n",
              "\n",
              "    .colab-df-convert:hover {\n",
              "      background-color: #E2EBFA;\n",
              "      box-shadow: 0px 1px 2px rgba(60, 64, 67, 0.3), 0px 1px 3px 1px rgba(60, 64, 67, 0.15);\n",
              "      fill: #174EA6;\n",
              "    }\n",
              "\n",
              "    .colab-df-buttons div {\n",
              "      margin-bottom: 4px;\n",
              "    }\n",
              "\n",
              "    [theme=dark] .colab-df-convert {\n",
              "      background-color: #3B4455;\n",
              "      fill: #D2E3FC;\n",
              "    }\n",
              "\n",
              "    [theme=dark] .colab-df-convert:hover {\n",
              "      background-color: #434B5C;\n",
              "      box-shadow: 0px 1px 3px 1px rgba(0, 0, 0, 0.15);\n",
              "      filter: drop-shadow(0px 1px 2px rgba(0, 0, 0, 0.3));\n",
              "      fill: #FFFFFF;\n",
              "    }\n",
              "  </style>\n",
              "\n",
              "    <script>\n",
              "      const buttonEl =\n",
              "        document.querySelector('#df-3c2b85d2-b833-46ce-a946-013823aa4cb8 button.colab-df-convert');\n",
              "      buttonEl.style.display =\n",
              "        google.colab.kernel.accessAllowed ? 'block' : 'none';\n",
              "\n",
              "      async function convertToInteractive(key) {\n",
              "        const element = document.querySelector('#df-3c2b85d2-b833-46ce-a946-013823aa4cb8');\n",
              "        const dataTable =\n",
              "          await google.colab.kernel.invokeFunction('convertToInteractive',\n",
              "                                                    [key], {});\n",
              "        if (!dataTable) return;\n",
              "\n",
              "        const docLinkHtml = 'Like what you see? Visit the ' +\n",
              "          '<a target=\"_blank\" href=https://colab.research.google.com/notebooks/data_table.ipynb>data table notebook</a>'\n",
              "          + ' to learn more about interactive tables.';\n",
              "        element.innerHTML = '';\n",
              "        dataTable['output_type'] = 'display_data';\n",
              "        await google.colab.output.renderOutput(dataTable, element);\n",
              "        const docLink = document.createElement('div');\n",
              "        docLink.innerHTML = docLinkHtml;\n",
              "        element.appendChild(docLink);\n",
              "      }\n",
              "    </script>\n",
              "  </div>\n",
              "\n",
              "\n",
              "<div id=\"df-d8ada6b0-4e91-417a-9395-7c9ab2788b33\">\n",
              "  <button class=\"colab-df-quickchart\" onclick=\"quickchart('df-d8ada6b0-4e91-417a-9395-7c9ab2788b33')\"\n",
              "            title=\"Suggest charts.\"\n",
              "            style=\"display:none;\">\n",
              "\n",
              "<svg xmlns=\"http://www.w3.org/2000/svg\" height=\"24px\"viewBox=\"0 0 24 24\"\n",
              "     width=\"24px\">\n",
              "    <g>\n",
              "        <path d=\"M19 3H5c-1.1 0-2 .9-2 2v14c0 1.1.9 2 2 2h14c1.1 0 2-.9 2-2V5c0-1.1-.9-2-2-2zM9 17H7v-7h2v7zm4 0h-2V7h2v10zm4 0h-2v-4h2v4z\"/>\n",
              "    </g>\n",
              "</svg>\n",
              "  </button>\n",
              "\n",
              "<style>\n",
              "  .colab-df-quickchart {\n",
              "    background-color: #E8F0FE;\n",
              "    border: none;\n",
              "    border-radius: 50%;\n",
              "    cursor: pointer;\n",
              "    display: none;\n",
              "    fill: #1967D2;\n",
              "    height: 32px;\n",
              "    padding: 0 0 0 0;\n",
              "    width: 32px;\n",
              "  }\n",
              "\n",
              "  .colab-df-quickchart:hover {\n",
              "    background-color: #E2EBFA;\n",
              "    box-shadow: 0px 1px 2px rgba(60, 64, 67, 0.3), 0px 1px 3px 1px rgba(60, 64, 67, 0.15);\n",
              "    fill: #174EA6;\n",
              "  }\n",
              "\n",
              "  [theme=dark] .colab-df-quickchart {\n",
              "    background-color: #3B4455;\n",
              "    fill: #D2E3FC;\n",
              "  }\n",
              "\n",
              "  [theme=dark] .colab-df-quickchart:hover {\n",
              "    background-color: #434B5C;\n",
              "    box-shadow: 0px 1px 3px 1px rgba(0, 0, 0, 0.15);\n",
              "    filter: drop-shadow(0px 1px 2px rgba(0, 0, 0, 0.3));\n",
              "    fill: #FFFFFF;\n",
              "  }\n",
              "</style>\n",
              "\n",
              "  <script>\n",
              "    async function quickchart(key) {\n",
              "      const charts = await google.colab.kernel.invokeFunction(\n",
              "          'suggestCharts', [key], {});\n",
              "    }\n",
              "    (() => {\n",
              "      let quickchartButtonEl =\n",
              "        document.querySelector('#df-d8ada6b0-4e91-417a-9395-7c9ab2788b33 button');\n",
              "      quickchartButtonEl.style.display =\n",
              "        google.colab.kernel.accessAllowed ? 'block' : 'none';\n",
              "    })();\n",
              "  </script>\n",
              "</div>\n",
              "    </div>\n",
              "  </div>\n"
            ]
          },
          "metadata": {},
          "execution_count": 10
        }
      ]
    },
    {
      "cell_type": "markdown",
      "source": [
        "### Clean the 'Latitude' and 'Longitude' columns and convert them to float type:"
      ],
      "metadata": {
        "id": "VCqmClt_RgBW"
      }
    },
    {
      "cell_type": "markdown",
      "source": [
        "This task is iterative, meaning the cleaning process is based on the errors encountered during conversion. This is a generic structure:"
      ],
      "metadata": {
        "id": "9oY1AEwBNEmB"
      }
    },
    {
      "cell_type": "code",
      "source": [
        "def convert_to_float(column):\n",
        "    try:\n",
        "        return df[column].astype(float)\n",
        "    except Exception as e:\n",
        "        print(e)\n",
        "        # Handle the exception here, for instance finding out which rows are problematic, and correct them.\n",
        "        # Return False so that the calling function knows conversion was not successful\n",
        "        return False\n",
        "\n"
      ],
      "metadata": {
        "id": "wCSetoxZR5cY"
      },
      "execution_count": 11,
      "outputs": []
    },
    {
      "cell_type": "markdown",
      "source": [
        "### Convert Latitude & Longitude columns to type float"
      ],
      "metadata": {
        "id": "FdSEjNUaaed6"
      }
    },
    {
      "cell_type": "code",
      "source": [
        "convert_to_float('Latitude')\n",
        "\n",
        "convert_to_float('Longitude')"
      ],
      "metadata": {
        "colab": {
          "base_uri": "https://localhost:8080/"
        },
        "id": "jaZ8Cc3RTYYx",
        "outputId": "ff3d339a-4146-42b9-8d32-56e376dfb625"
      },
      "execution_count": 12,
      "outputs": [
        {
          "output_type": "stream",
          "name": "stdout",
          "text": [
            "could not convert string to float: '21.9161 N'\n",
            "could not convert string to float: '84.0464 E'\n"
          ]
        },
        {
          "output_type": "execute_result",
          "data": {
            "text/plain": [
              "False"
            ]
          },
          "metadata": {},
          "execution_count": 12
        }
      ]
    },
    {
      "cell_type": "markdown",
      "source": [
        "On encountering the following error, we take into account cases where the direction has been mentioned in the latitude and longitude in the cleaning process and append the following case into our previous code"
      ],
      "metadata": {
        "id": "Tp9vLR4ZJkHk"
      }
    },
    {
      "cell_type": "code",
      "source": [
        "def clean_value(value):\n",
        "    return ''.join(filter(lambda x: x.isdigit() or x == '.', value))\n",
        "\n",
        "def convert_to_float(column):\n",
        "    try:\n",
        "        df[column] = df[column].astype(float)\n",
        "        return True\n",
        "    except Exception as e:\n",
        "        # Directly clean the column values upon facing a conversion error\n",
        "        df[column] = df[column].apply(clean_value)\n",
        "        return False\n",
        "\n",
        "# Attempt to convert\n",
        "success_lat = False\n",
        "success_lon = False\n",
        "\n",
        "while not success_lat:\n",
        "    success_lat = convert_to_float('Latitude')\n",
        "\n",
        "while not success_lon:\n",
        "    success_lon = convert_to_float('Longitude')\n"
      ],
      "metadata": {
        "id": "nSx7nyz8Iw0P"
      },
      "execution_count": 13,
      "outputs": []
    },
    {
      "cell_type": "markdown",
      "source": [
        "Then after taking into account the above testcase we check for other exceptions with the generic template and see if its able to convert all values:"
      ],
      "metadata": {
        "id": "wu9DqGNNN5S6"
      }
    },
    {
      "cell_type": "code",
      "source": [
        "def convert_to_float(column):\n",
        "    try:\n",
        "        df[column].astype(float)\n",
        "        return True\n",
        "    except Exception as e:\n",
        "        print(e)\n",
        "        # Handle the exception here, for instance finding out which rows are problematic, and correct them.\n",
        "        # Return False so that the calling function knows conversion was not successful\n",
        "        return False\n",
        "\n",
        "convert_to_float('Latitude')\n",
        "\n",
        "convert_to_float('Longitude')"
      ],
      "metadata": {
        "colab": {
          "base_uri": "https://localhost:8080/"
        },
        "id": "oD7ZnoegOOGD",
        "outputId": "1efb43d0-a595-44f6-b151-1e55e47ff24b"
      },
      "execution_count": 14,
      "outputs": [
        {
          "output_type": "execute_result",
          "data": {
            "text/plain": [
              "True"
            ]
          },
          "metadata": {},
          "execution_count": 14
        }
      ]
    },
    {
      "cell_type": "markdown",
      "source": [
        "Thus ther are no ore exceptions we need to take into account and all the values in the columns have been converted to float"
      ],
      "metadata": {
        "id": "Cn-NWX_GPUr9"
      }
    },
    {
      "cell_type": "code",
      "source": [
        "df.dtypes"
      ],
      "metadata": {
        "colab": {
          "base_uri": "https://localhost:8080/"
        },
        "id": "LQ5ja7dMbL39",
        "outputId": "484b5912-228b-4f7e-e5bd-3cb0464f95a3"
      },
      "execution_count": 15,
      "outputs": [
        {
          "output_type": "execute_result",
          "data": {
            "text/plain": [
              "CircleName       object\n",
              "RegionName       object\n",
              "DivisionName     object\n",
              "OfficeName       object\n",
              "Pincode           int64\n",
              "OfficeType       object\n",
              "Delivery         object\n",
              "District         object\n",
              "StateName        object\n",
              "Latitude        float64\n",
              "Longitude       float64\n",
              "dtype: object"
            ]
          },
          "metadata": {},
          "execution_count": 15
        }
      ]
    },
    {
      "cell_type": "markdown",
      "source": [
        "### On verifying from the above we can see the conversion of the datatype of the columns has happened. Thus the data is clean."
      ],
      "metadata": {
        "id": "KIXxCKzzOlUH"
      }
    }
  ]
}
